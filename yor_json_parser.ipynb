{
 "cells": [
  {
   "cell_type": "markdown",
   "metadata": {},
   "source": [
    "# Youth On Record - JSON parsing\n",
    "\n",
    "With the goal of creating a database to store data for Non-profit Youth On Record (See https://www.youthonrecord.org/), the first challenge is gathering data from disparate sources, and doing some ETL work to get them formatted the way we need before pushing to the new database.\n",
    "\n",
    "The first data visualization project was to create an interactive workshop map going back to late 2019. The map, which has it's current home in Heroku, can be seen here: https://lit-ocean-77747.herokuapp.com/ . At the outset, the data needed for this map was from a variety of spreadsheets and google docs, and I decided to hard-code this directly into the React web application as the data had no home from which it could be retrieved to generate the map markers - not a best practice!\n",
    "\n",
    "In this ETL project, we can now deconstruct the original dataset. We had three sets of map markers - the first for school partnerships, the second for libraries, and the third for onsite workshops conducted at the Youth Media Studio downtown. Each was originally stored as JSON in a javascript variable, and has been exported to JSON files here (see the json_data directory) which we can pull into pandas and begin parsing. Meanwhile, each file has nested objects indicating who the teacher was, what class was taught, and other info which we can split up to be moved to separate tables in the new PostgreSQL database."
   ]
  },
  {
   "cell_type": "code",
   "execution_count": 2,
   "metadata": {},
   "outputs": [],
   "source": [
    "# dependencies\n",
    "import pandas as pd \n",
    "from pprint import pprint"
   ]
  },
  {
   "cell_type": "code",
   "execution_count": 5,
   "metadata": {},
   "outputs": [
    {
     "output_type": "execute_result",
     "data": {
      "text/plain": "                                  name                               address  \\\n0   Colorado High School Charter Osage   1175 Osage St #100, Denver CO 80204   \n1     Colorado High School Charter GES      3093 E. 42nd Ave Denver CO 80216   \n2                    North High School      2960 Speer Blvd, Denver CO 80211   \n3           Legacy Options High School      6850 Argonne St, Denver CO 80249   \n4                     Third Way Center        505 W 5th Ave, Denver CO 80204   \n5             Rise Up Community School        2342 Broadway, Denver CO 80205   \n6                         PREP Academy    2727 Columbine St, Denver CO 80205   \n7  Aurora West Collegiate Prep Academy     10100 E 13th Ave, Aurora CO 80010   \n8     Hill Campus of Arts and Sciences  451 Clermont Street, Denver CO 80220   \n\n                                          url  \\\n0  https://www.coloradohighschoolcharter.com/   \n1  https://www.coloradohighschoolcharter.com/   \n2                   https://north.dpsk12.org/   \n3          https://www.makeyourownlegacy.org/   \n4                 https://thirdwaycenter.org/   \n5          https://riseupcommunityschool.net/   \n6              http://prepacademy.dpsk12.org/   \n7                https://awcpa.aurorak12.org/   \n8                     http://hill.dpsk12.org/   \n\n                                             classes  \\\n0  [{'class_title': 'Introduction to Music Produc...   \n1  [{'class_title': 'Introduction to Music Produc...   \n2  [{'class_title': 'Introduction to Music Produc...   \n3  [{'class_title': 'Introduction to Music Produc...   \n4  [{'class_title': 'Introduction to Music Produc...   \n5  [{'class_title': 'Introduction to Music Produc...   \n6  [{'class_title': 'Creative Writing', 'class_li...   \n7  [{'class_title': 'Introduction to Ethnic Studi...   \n8  [{'class_title': 'Intro to Creative Writing', ...   \n\n                                            teachers   latitude   longitude  \\\n0  [{'teacher_name': 'Devin Urioste', 'teacher_li...  39.734798 -105.008013   \n1  [{'teacher_name': 'Elijah Lynch', 'teacher_lin...  39.754973 -105.013325   \n2  [{'teacher_name': 'Mona Magno', 'teacher_link'...  39.754962 -105.013497   \n3  [{'teacher_name': 'Michelle Rocqet', 'teacher_...  39.820655 -104.771209   \n4  [{'teacher_name': 'Babah Fly', 'teacher_link':...  39.734261 -104.970029   \n5  [{'teacher_name': 'Michelle Rocqet', 'teacher_...  39.755475 -104.989392   \n6  [{'teacher_name': 'Elijah Lynch', 'teacher_lin...  39.755454 -105.057421   \n7  [{'teacher_name': 'Stephen Brackett', 'teacher...  39.735981 -104.872784   \n8  [{'teacher_name': 'Babah Fly', 'teacher_link':...  39.723709 -104.937673   \n\n  img_src  \n0          \n1          \n2          \n3          \n4          \n5          \n6          \n7          \n8          ",
      "text/html": "<div>\n<style scoped>\n    .dataframe tbody tr th:only-of-type {\n        vertical-align: middle;\n    }\n\n    .dataframe tbody tr th {\n        vertical-align: top;\n    }\n\n    .dataframe thead th {\n        text-align: right;\n    }\n</style>\n<table border=\"1\" class=\"dataframe\">\n  <thead>\n    <tr style=\"text-align: right;\">\n      <th></th>\n      <th>name</th>\n      <th>address</th>\n      <th>url</th>\n      <th>classes</th>\n      <th>teachers</th>\n      <th>latitude</th>\n      <th>longitude</th>\n      <th>img_src</th>\n    </tr>\n  </thead>\n  <tbody>\n    <tr>\n      <th>0</th>\n      <td>Colorado High School Charter Osage</td>\n      <td>1175 Osage St #100, Denver CO 80204</td>\n      <td>https://www.coloradohighschoolcharter.com/</td>\n      <td>[{'class_title': 'Introduction to Music Produc...</td>\n      <td>[{'teacher_name': 'Devin Urioste', 'teacher_li...</td>\n      <td>39.734798</td>\n      <td>-105.008013</td>\n      <td></td>\n    </tr>\n    <tr>\n      <th>1</th>\n      <td>Colorado High School Charter GES</td>\n      <td>3093 E. 42nd Ave Denver CO 80216</td>\n      <td>https://www.coloradohighschoolcharter.com/</td>\n      <td>[{'class_title': 'Introduction to Music Produc...</td>\n      <td>[{'teacher_name': 'Elijah Lynch', 'teacher_lin...</td>\n      <td>39.754973</td>\n      <td>-105.013325</td>\n      <td></td>\n    </tr>\n    <tr>\n      <th>2</th>\n      <td>North High School</td>\n      <td>2960 Speer Blvd, Denver CO 80211</td>\n      <td>https://north.dpsk12.org/</td>\n      <td>[{'class_title': 'Introduction to Music Produc...</td>\n      <td>[{'teacher_name': 'Mona Magno', 'teacher_link'...</td>\n      <td>39.754962</td>\n      <td>-105.013497</td>\n      <td></td>\n    </tr>\n    <tr>\n      <th>3</th>\n      <td>Legacy Options High School</td>\n      <td>6850 Argonne St, Denver CO 80249</td>\n      <td>https://www.makeyourownlegacy.org/</td>\n      <td>[{'class_title': 'Introduction to Music Produc...</td>\n      <td>[{'teacher_name': 'Michelle Rocqet', 'teacher_...</td>\n      <td>39.820655</td>\n      <td>-104.771209</td>\n      <td></td>\n    </tr>\n    <tr>\n      <th>4</th>\n      <td>Third Way Center</td>\n      <td>505 W 5th Ave, Denver CO 80204</td>\n      <td>https://thirdwaycenter.org/</td>\n      <td>[{'class_title': 'Introduction to Music Produc...</td>\n      <td>[{'teacher_name': 'Babah Fly', 'teacher_link':...</td>\n      <td>39.734261</td>\n      <td>-104.970029</td>\n      <td></td>\n    </tr>\n    <tr>\n      <th>5</th>\n      <td>Rise Up Community School</td>\n      <td>2342 Broadway, Denver CO 80205</td>\n      <td>https://riseupcommunityschool.net/</td>\n      <td>[{'class_title': 'Introduction to Music Produc...</td>\n      <td>[{'teacher_name': 'Michelle Rocqet', 'teacher_...</td>\n      <td>39.755475</td>\n      <td>-104.989392</td>\n      <td></td>\n    </tr>\n    <tr>\n      <th>6</th>\n      <td>PREP Academy</td>\n      <td>2727 Columbine St, Denver CO 80205</td>\n      <td>http://prepacademy.dpsk12.org/</td>\n      <td>[{'class_title': 'Creative Writing', 'class_li...</td>\n      <td>[{'teacher_name': 'Elijah Lynch', 'teacher_lin...</td>\n      <td>39.755454</td>\n      <td>-105.057421</td>\n      <td></td>\n    </tr>\n    <tr>\n      <th>7</th>\n      <td>Aurora West Collegiate Prep Academy</td>\n      <td>10100 E 13th Ave, Aurora CO 80010</td>\n      <td>https://awcpa.aurorak12.org/</td>\n      <td>[{'class_title': 'Introduction to Ethnic Studi...</td>\n      <td>[{'teacher_name': 'Stephen Brackett', 'teacher...</td>\n      <td>39.735981</td>\n      <td>-104.872784</td>\n      <td></td>\n    </tr>\n    <tr>\n      <th>8</th>\n      <td>Hill Campus of Arts and Sciences</td>\n      <td>451 Clermont Street, Denver CO 80220</td>\n      <td>http://hill.dpsk12.org/</td>\n      <td>[{'class_title': 'Intro to Creative Writing', ...</td>\n      <td>[{'teacher_name': 'Babah Fly', 'teacher_link':...</td>\n      <td>39.723709</td>\n      <td>-104.937673</td>\n      <td></td>\n    </tr>\n  </tbody>\n</table>\n</div>"
     },
     "metadata": {},
     "execution_count": 5
    }
   ],
   "source": [
    "# load the schools json\n",
    "school_json_path = \"./json_data/yor_schools.json\"\n",
    "schools_json_df = pd.read_json(school_json_path)\n",
    "schools_json_df"
   ]
  },
  {
   "cell_type": "code",
   "execution_count": 7,
   "metadata": {},
   "outputs": [
    {
     "output_type": "execute_result",
     "data": {
      "text/plain": "               name                            address  \\\n0       Ford Warren    2825 N High St, Denver CO 80205   \n1    Corky Gonzalez    1498 Irving St, Denver CO 80204   \n2       Ross Barnum  3570 W First Ave, Denver CO 80219   \n3       Athmar Park   1055 S Tejon St, Denver CO 80223   \n4  Pauline Robinson   5575 E 33rd Ave, Denver CO 80207   \n\n                                                 url  \\\n0  https://www.denverlibrary.org/content/ford-war...   \n1  https://www.denverlibrary.org/content/rodolfo-...   \n2  https://www.denverlibrary.org/content/ross-bar...   \n3  https://www.denverlibrary.org/content/athmar-p...   \n4  https://www.denverlibrary.org/content/pauline-...   \n\n                                             classes  \\\n0   [{'class_title': 'Beats Lab', 'class_link': ''}]   \n1   [{'class_title': 'Beats Lab', 'class_link': ''}]   \n2   [{'class_title': 'Beats Lab', 'class_link': ''}]   \n3   [{'class_title': 'Beats Lab', 'class_link': ''}]   \n4  [{'class_title': 'single day kick off', 'class...   \n\n                                            teachers   latitude   longitude  \\\n0  [{'teacher_name': 'Mona Magno', 'teacher_link'...  39.757389 -104.967268   \n1  [{'teacher_name': 'Elijah Lynch', 'teacher_lin...  39.740052 -105.031748   \n2  [{'teacher_name': 'Michelle Rocqet', 'teacher_...  39.717953 -105.036795   \n3  [{'teacher_name': 'Devin Urisote', 'teacher_li...  39.697086 -105.015794   \n4  [{'teacher_name': 'Stephen Brackett', 'teacher...  39.764098 -104.924881   \n\n                                             img_src  \n0  https://geo2.ggpht.com/cbk?panoid=_DAxCFBBb-bp...  \n1  https://geo0.ggpht.com/cbk?panoid=qb_c23eijRyK...  \n2  https://geo2.ggpht.com/cbk?panoid=G_mBcqGpr6JM...  \n3  https://geo0.ggpht.com/cbk?panoid=m9snCv6AFMd2...  \n4  https://geo1.ggpht.com/cbk?panoid=Q9dE1rc5JGYa...  ",
      "text/html": "<div>\n<style scoped>\n    .dataframe tbody tr th:only-of-type {\n        vertical-align: middle;\n    }\n\n    .dataframe tbody tr th {\n        vertical-align: top;\n    }\n\n    .dataframe thead th {\n        text-align: right;\n    }\n</style>\n<table border=\"1\" class=\"dataframe\">\n  <thead>\n    <tr style=\"text-align: right;\">\n      <th></th>\n      <th>name</th>\n      <th>address</th>\n      <th>url</th>\n      <th>classes</th>\n      <th>teachers</th>\n      <th>latitude</th>\n      <th>longitude</th>\n      <th>img_src</th>\n    </tr>\n  </thead>\n  <tbody>\n    <tr>\n      <th>0</th>\n      <td>Ford Warren</td>\n      <td>2825 N High St, Denver CO 80205</td>\n      <td>https://www.denverlibrary.org/content/ford-war...</td>\n      <td>[{'class_title': 'Beats Lab', 'class_link': ''}]</td>\n      <td>[{'teacher_name': 'Mona Magno', 'teacher_link'...</td>\n      <td>39.757389</td>\n      <td>-104.967268</td>\n      <td>https://geo2.ggpht.com/cbk?panoid=_DAxCFBBb-bp...</td>\n    </tr>\n    <tr>\n      <th>1</th>\n      <td>Corky Gonzalez</td>\n      <td>1498 Irving St, Denver CO 80204</td>\n      <td>https://www.denverlibrary.org/content/rodolfo-...</td>\n      <td>[{'class_title': 'Beats Lab', 'class_link': ''}]</td>\n      <td>[{'teacher_name': 'Elijah Lynch', 'teacher_lin...</td>\n      <td>39.740052</td>\n      <td>-105.031748</td>\n      <td>https://geo0.ggpht.com/cbk?panoid=qb_c23eijRyK...</td>\n    </tr>\n    <tr>\n      <th>2</th>\n      <td>Ross Barnum</td>\n      <td>3570 W First Ave, Denver CO 80219</td>\n      <td>https://www.denverlibrary.org/content/ross-bar...</td>\n      <td>[{'class_title': 'Beats Lab', 'class_link': ''}]</td>\n      <td>[{'teacher_name': 'Michelle Rocqet', 'teacher_...</td>\n      <td>39.717953</td>\n      <td>-105.036795</td>\n      <td>https://geo2.ggpht.com/cbk?panoid=G_mBcqGpr6JM...</td>\n    </tr>\n    <tr>\n      <th>3</th>\n      <td>Athmar Park</td>\n      <td>1055 S Tejon St, Denver CO 80223</td>\n      <td>https://www.denverlibrary.org/content/athmar-p...</td>\n      <td>[{'class_title': 'Beats Lab', 'class_link': ''}]</td>\n      <td>[{'teacher_name': 'Devin Urisote', 'teacher_li...</td>\n      <td>39.697086</td>\n      <td>-105.015794</td>\n      <td>https://geo0.ggpht.com/cbk?panoid=m9snCv6AFMd2...</td>\n    </tr>\n    <tr>\n      <th>4</th>\n      <td>Pauline Robinson</td>\n      <td>5575 E 33rd Ave, Denver CO 80207</td>\n      <td>https://www.denverlibrary.org/content/pauline-...</td>\n      <td>[{'class_title': 'single day kick off', 'class...</td>\n      <td>[{'teacher_name': 'Stephen Brackett', 'teacher...</td>\n      <td>39.764098</td>\n      <td>-104.924881</td>\n      <td>https://geo1.ggpht.com/cbk?panoid=Q9dE1rc5JGYa...</td>\n    </tr>\n  </tbody>\n</table>\n</div>"
     },
     "metadata": {},
     "execution_count": 7
    }
   ],
   "source": [
    "#  load the libraries json\n",
    "library_json_path = \"./json_data/yor_libraries.json\"\n",
    "libraries_json_df = pd.read_json(library_json_path)\n",
    "libraries_json_df"
   ]
  },
  {
   "cell_type": "code",
   "execution_count": 8,
   "metadata": {},
   "outputs": [
    {
     "output_type": "execute_result",
     "data": {
      "text/plain": "                                 partner  students_served  \\\n0   Heritage Camps for Adoptive Families               20   \n1                                EcoArts               10   \n2                    Noel Community Arts               15   \n3                         Bruce Randolph               10   \n4                     Kipp middle school               10   \n5                           World Denver               20   \n6                     Gateway to College               15   \n7                                   RAMP               10   \n8             John F Kennedy High School                6   \n9        Florence Crittenton High School               15   \n10                                  Gals                6   \n11               The Breaking Convention               30   \n12                        Career Connect                5   \n13                  Goodwill internships                4   \n14         BBYO International Convention               25   \n15            Clyde Miller Middle School               10   \n\n                     date  \n0               6/17/2019  \n1               3/21/2019  \n2              12/14/2019  \n3         4/30 & 5/1/2019  \n4               4/30/2019  \n5               3/20/2019  \n6               5/20/2019  \n7               2/28/2019  \n8               5/14/2019  \n9               5/16/2019  \n10    Fridays 2018 - 2019  \n11              11/3/2019  \n12  2018-2019 School year  \n13  2018-2019 School year  \n14              2/15/2019  \n15              4/24/2019  ",
      "text/html": "<div>\n<style scoped>\n    .dataframe tbody tr th:only-of-type {\n        vertical-align: middle;\n    }\n\n    .dataframe tbody tr th {\n        vertical-align: top;\n    }\n\n    .dataframe thead th {\n        text-align: right;\n    }\n</style>\n<table border=\"1\" class=\"dataframe\">\n  <thead>\n    <tr style=\"text-align: right;\">\n      <th></th>\n      <th>partner</th>\n      <th>students_served</th>\n      <th>date</th>\n    </tr>\n  </thead>\n  <tbody>\n    <tr>\n      <th>0</th>\n      <td>Heritage Camps for Adoptive Families</td>\n      <td>20</td>\n      <td>6/17/2019</td>\n    </tr>\n    <tr>\n      <th>1</th>\n      <td>EcoArts</td>\n      <td>10</td>\n      <td>3/21/2019</td>\n    </tr>\n    <tr>\n      <th>2</th>\n      <td>Noel Community Arts</td>\n      <td>15</td>\n      <td>12/14/2019</td>\n    </tr>\n    <tr>\n      <th>3</th>\n      <td>Bruce Randolph</td>\n      <td>10</td>\n      <td>4/30 &amp; 5/1/2019</td>\n    </tr>\n    <tr>\n      <th>4</th>\n      <td>Kipp middle school</td>\n      <td>10</td>\n      <td>4/30/2019</td>\n    </tr>\n    <tr>\n      <th>5</th>\n      <td>World Denver</td>\n      <td>20</td>\n      <td>3/20/2019</td>\n    </tr>\n    <tr>\n      <th>6</th>\n      <td>Gateway to College</td>\n      <td>15</td>\n      <td>5/20/2019</td>\n    </tr>\n    <tr>\n      <th>7</th>\n      <td>RAMP</td>\n      <td>10</td>\n      <td>2/28/2019</td>\n    </tr>\n    <tr>\n      <th>8</th>\n      <td>John F Kennedy High School</td>\n      <td>6</td>\n      <td>5/14/2019</td>\n    </tr>\n    <tr>\n      <th>9</th>\n      <td>Florence Crittenton High School</td>\n      <td>15</td>\n      <td>5/16/2019</td>\n    </tr>\n    <tr>\n      <th>10</th>\n      <td>Gals</td>\n      <td>6</td>\n      <td>Fridays 2018 - 2019</td>\n    </tr>\n    <tr>\n      <th>11</th>\n      <td>The Breaking Convention</td>\n      <td>30</td>\n      <td>11/3/2019</td>\n    </tr>\n    <tr>\n      <th>12</th>\n      <td>Career Connect</td>\n      <td>5</td>\n      <td>2018-2019 School year</td>\n    </tr>\n    <tr>\n      <th>13</th>\n      <td>Goodwill internships</td>\n      <td>4</td>\n      <td>2018-2019 School year</td>\n    </tr>\n    <tr>\n      <th>14</th>\n      <td>BBYO International Convention</td>\n      <td>25</td>\n      <td>2/15/2019</td>\n    </tr>\n    <tr>\n      <th>15</th>\n      <td>Clyde Miller Middle School</td>\n      <td>10</td>\n      <td>4/24/2019</td>\n    </tr>\n  </tbody>\n</table>\n</div>"
     },
     "metadata": {},
     "execution_count": 8
    }
   ],
   "source": [
    "# load the onsite workshops json\n",
    "wkshop_json_path = \"./json_data/yor_onsite_workshops.json\"\n",
    "workshop_json_df = pd.read_json(wkshop_json_path)\n",
    "workshop_json_df"
   ]
  },
  {
   "cell_type": "markdown",
   "metadata": {},
   "source": [
    "## ETL plan\n",
    "- as we want to have a table to store all partnerships, we can vertically merge the schools and libraries with a pd.concat - these have a lot of common fields, and we can drop the classes and teachers columns\n",
    "- we do want classes and teachers for use in a differen table, so we can join on their id to the school they taught\n",
    "- the onsite workshops will be a bit of stick in the mud, since we did not bother collecting things like address or geographic coordinates for these as they were all conducted at the Youth Media Studio on 10th and Navajo downtown. Furthermore, many of these were a one day workshop, whereas others have a date range...and include a 'students_served' column that we do not have for the rest."
   ]
  },
  {
   "cell_type": "code",
   "execution_count": 10,
   "metadata": {},
   "outputs": [],
   "source": [
    "# concat the schools and libraries, drop teachers and classes...first let's add a 'type' to each of these\n",
    "schools_json_df['type'] = \"school\"\n",
    "# ^^^ how granular should we be? While there's not a ton, it might be better down the road to say 'middle school' v. 'high school' to be able to count students in various age demographics? anyway...\n",
    "libraries_json_df['type'] = \"library\""
   ]
  },
  {
   "cell_type": "code",
   "execution_count": 16,
   "metadata": {},
   "outputs": [
    {
     "output_type": "execute_result",
     "data": {
      "text/plain": "                                  name                               address  \\\n0   Colorado High School Charter Osage   1175 Osage St #100, Denver CO 80204   \n1     Colorado High School Charter GES      3093 E. 42nd Ave Denver CO 80216   \n2                    North High School      2960 Speer Blvd, Denver CO 80211   \n3           Legacy Options High School      6850 Argonne St, Denver CO 80249   \n4                     Third Way Center        505 W 5th Ave, Denver CO 80204   \n5             Rise Up Community School        2342 Broadway, Denver CO 80205   \n6                         PREP Academy    2727 Columbine St, Denver CO 80205   \n7  Aurora West Collegiate Prep Academy     10100 E 13th Ave, Aurora CO 80010   \n8     Hill Campus of Arts and Sciences  451 Clermont Street, Denver CO 80220   \n0                          Ford Warren       2825 N High St, Denver CO 80205   \n1                       Corky Gonzalez       1498 Irving St, Denver CO 80204   \n2                          Ross Barnum     3570 W First Ave, Denver CO 80219   \n3                          Athmar Park      1055 S Tejon St, Denver CO 80223   \n4                     Pauline Robinson      5575 E 33rd Ave, Denver CO 80207   \n\n                                                 url   latitude   longitude  \\\n0         https://www.coloradohighschoolcharter.com/  39.734798 -105.008013   \n1         https://www.coloradohighschoolcharter.com/  39.754973 -105.013325   \n2                          https://north.dpsk12.org/  39.754962 -105.013497   \n3                 https://www.makeyourownlegacy.org/  39.820655 -104.771209   \n4                        https://thirdwaycenter.org/  39.734261 -104.970029   \n5                 https://riseupcommunityschool.net/  39.755475 -104.989392   \n6                     http://prepacademy.dpsk12.org/  39.755454 -105.057421   \n7                       https://awcpa.aurorak12.org/  39.735981 -104.872784   \n8                            http://hill.dpsk12.org/  39.723709 -104.937673   \n0  https://www.denverlibrary.org/content/ford-war...  39.757389 -104.967268   \n1  https://www.denverlibrary.org/content/rodolfo-...  39.740052 -105.031748   \n2  https://www.denverlibrary.org/content/ross-bar...  39.717953 -105.036795   \n3  https://www.denverlibrary.org/content/athmar-p...  39.697086 -105.015794   \n4  https://www.denverlibrary.org/content/pauline-...  39.764098 -104.924881   \n\n      type  \n0   school  \n1   school  \n2   school  \n3   school  \n4   school  \n5   school  \n6   school  \n7   school  \n8   school  \n0  library  \n1  library  \n2  library  \n3  library  \n4  library  ",
      "text/html": "<div>\n<style scoped>\n    .dataframe tbody tr th:only-of-type {\n        vertical-align: middle;\n    }\n\n    .dataframe tbody tr th {\n        vertical-align: top;\n    }\n\n    .dataframe thead th {\n        text-align: right;\n    }\n</style>\n<table border=\"1\" class=\"dataframe\">\n  <thead>\n    <tr style=\"text-align: right;\">\n      <th></th>\n      <th>name</th>\n      <th>address</th>\n      <th>url</th>\n      <th>latitude</th>\n      <th>longitude</th>\n      <th>type</th>\n    </tr>\n  </thead>\n  <tbody>\n    <tr>\n      <th>0</th>\n      <td>Colorado High School Charter Osage</td>\n      <td>1175 Osage St #100, Denver CO 80204</td>\n      <td>https://www.coloradohighschoolcharter.com/</td>\n      <td>39.734798</td>\n      <td>-105.008013</td>\n      <td>school</td>\n    </tr>\n    <tr>\n      <th>1</th>\n      <td>Colorado High School Charter GES</td>\n      <td>3093 E. 42nd Ave Denver CO 80216</td>\n      <td>https://www.coloradohighschoolcharter.com/</td>\n      <td>39.754973</td>\n      <td>-105.013325</td>\n      <td>school</td>\n    </tr>\n    <tr>\n      <th>2</th>\n      <td>North High School</td>\n      <td>2960 Speer Blvd, Denver CO 80211</td>\n      <td>https://north.dpsk12.org/</td>\n      <td>39.754962</td>\n      <td>-105.013497</td>\n      <td>school</td>\n    </tr>\n    <tr>\n      <th>3</th>\n      <td>Legacy Options High School</td>\n      <td>6850 Argonne St, Denver CO 80249</td>\n      <td>https://www.makeyourownlegacy.org/</td>\n      <td>39.820655</td>\n      <td>-104.771209</td>\n      <td>school</td>\n    </tr>\n    <tr>\n      <th>4</th>\n      <td>Third Way Center</td>\n      <td>505 W 5th Ave, Denver CO 80204</td>\n      <td>https://thirdwaycenter.org/</td>\n      <td>39.734261</td>\n      <td>-104.970029</td>\n      <td>school</td>\n    </tr>\n    <tr>\n      <th>5</th>\n      <td>Rise Up Community School</td>\n      <td>2342 Broadway, Denver CO 80205</td>\n      <td>https://riseupcommunityschool.net/</td>\n      <td>39.755475</td>\n      <td>-104.989392</td>\n      <td>school</td>\n    </tr>\n    <tr>\n      <th>6</th>\n      <td>PREP Academy</td>\n      <td>2727 Columbine St, Denver CO 80205</td>\n      <td>http://prepacademy.dpsk12.org/</td>\n      <td>39.755454</td>\n      <td>-105.057421</td>\n      <td>school</td>\n    </tr>\n    <tr>\n      <th>7</th>\n      <td>Aurora West Collegiate Prep Academy</td>\n      <td>10100 E 13th Ave, Aurora CO 80010</td>\n      <td>https://awcpa.aurorak12.org/</td>\n      <td>39.735981</td>\n      <td>-104.872784</td>\n      <td>school</td>\n    </tr>\n    <tr>\n      <th>8</th>\n      <td>Hill Campus of Arts and Sciences</td>\n      <td>451 Clermont Street, Denver CO 80220</td>\n      <td>http://hill.dpsk12.org/</td>\n      <td>39.723709</td>\n      <td>-104.937673</td>\n      <td>school</td>\n    </tr>\n    <tr>\n      <th>0</th>\n      <td>Ford Warren</td>\n      <td>2825 N High St, Denver CO 80205</td>\n      <td>https://www.denverlibrary.org/content/ford-war...</td>\n      <td>39.757389</td>\n      <td>-104.967268</td>\n      <td>library</td>\n    </tr>\n    <tr>\n      <th>1</th>\n      <td>Corky Gonzalez</td>\n      <td>1498 Irving St, Denver CO 80204</td>\n      <td>https://www.denverlibrary.org/content/rodolfo-...</td>\n      <td>39.740052</td>\n      <td>-105.031748</td>\n      <td>library</td>\n    </tr>\n    <tr>\n      <th>2</th>\n      <td>Ross Barnum</td>\n      <td>3570 W First Ave, Denver CO 80219</td>\n      <td>https://www.denverlibrary.org/content/ross-bar...</td>\n      <td>39.717953</td>\n      <td>-105.036795</td>\n      <td>library</td>\n    </tr>\n    <tr>\n      <th>3</th>\n      <td>Athmar Park</td>\n      <td>1055 S Tejon St, Denver CO 80223</td>\n      <td>https://www.denverlibrary.org/content/athmar-p...</td>\n      <td>39.697086</td>\n      <td>-105.015794</td>\n      <td>library</td>\n    </tr>\n    <tr>\n      <th>4</th>\n      <td>Pauline Robinson</td>\n      <td>5575 E 33rd Ave, Denver CO 80207</td>\n      <td>https://www.denverlibrary.org/content/pauline-...</td>\n      <td>39.764098</td>\n      <td>-104.924881</td>\n      <td>library</td>\n    </tr>\n  </tbody>\n</table>\n</div>"
     },
     "metadata": {},
     "execution_count": 16
    }
   ],
   "source": [
    "offsite_wkshop_df = pd.concat([schools_json_df, libraries_json_df])\n",
    "# drop classes and teachers...and img_src while we're at it since those were copied and pasted from google for the map, and it's null for the schools anyway\n",
    "offsite_wkshop_df = offsite_wkshop_df[['name', 'address', 'url', 'latitude', 'longitude','type']]\n",
    "offsite_wkshop_df\n",
    "# TODO - the index is wonky...reset_index() adds a new index but does not remove the old one?\n",
    "# TODO - address should be split into street, city, state, zip\n",
    "# TODO - type could be more granular?"
   ]
  }
 ],
 "metadata": {
  "language_info": {
   "codemirror_mode": {
    "name": "ipython",
    "version": 3
   },
   "file_extension": ".py",
   "mimetype": "text/x-python",
   "name": "python",
   "nbconvert_exporter": "python",
   "pygments_lexer": "ipython3",
   "version": "3.7.5-final"
  },
  "orig_nbformat": 2,
  "kernelspec": {
   "name": "python37564bitf7cdf857f18d48c79e8f22b3666beb35",
   "display_name": "Python 3.7.5 64-bit"
  }
 },
 "nbformat": 4,
 "nbformat_minor": 2
}